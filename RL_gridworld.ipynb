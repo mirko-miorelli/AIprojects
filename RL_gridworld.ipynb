{
  "cells": [
    {
      "cell_type": "code",
      "execution_count": null,
      "metadata": {
        "id": "8FkXuVDJMx--"
      },
      "outputs": [],
      "source": [
        "# importing the necessary libraries\n",
        "from matplotlib import pyplot as plt\n",
        "from matplotlib import cm\n",
        "import numpy as np"
      ]
    },
    {
      "cell_type": "markdown",
      "metadata": {
        "id": "TCtjb760Mx_G"
      },
      "source": [
        "<img src=\"http://drive.google.com/uc?export=view&id=18q7KL4aV6McMtaid_1Let2aGkw6d4QYn\" width=45%>"
      ]
    },
    {
      "cell_type": "code",
      "execution_count": null,
      "metadata": {
        "id": "bVnhYne4Mx_K"
      },
      "outputs": [],
      "source": [
        "class GridWorld:\n",
        "    \"\"\"\n",
        "\n",
        "    The environment: (see image)\n",
        "    * cells: the agent can step on a cell. There is exactly one cell to start from.\n",
        "    This is the top left corner. There is one terminal cell where the walking ends,\n",
        "    the agent can not leave it (blue).\n",
        "    * obstacles: there are cells where the agent can not step. (gray)\n",
        "    * agent: it can move from one cell to an other neighboring cell.\n",
        "    Possible directions: up, down, left, right. Each transition happens with probability 1.\n",
        "    * reward: after each transition the agent receives -1 point. In the terminal cell, no reward\n",
        "    received anymore.\n",
        "    \"\"\"\n",
        "    def __init__(self, size, start_cell, obstacles, terminating_state):\n",
        "        self.size = size\n",
        "        self.start = start_cell\n",
        "        self.obstacles = obstacles\n",
        "        self.termin = terminating_state\n",
        "        self.current_cell = self.start\n",
        "\n",
        "    def reset(self):\n",
        "        # ----- reset the current cell to the start cell to start again -----\n",
        "        if self.start is None:\n",
        "            self.current_cell = self.start\n",
        "        else:\n",
        "            self.current_cell = self.start\n",
        "\n",
        "    def transition(self, cell, action):\n",
        "        # ----- IMPLEMENT FUNCTION -----\n",
        "        # cell = (row, column) indices\n",
        "        # action: 0 left, 1 up, 2 right, 3 down\n",
        "        # returns: What will be the next state\n",
        "\n",
        "        r, c = cell\n",
        "        if cell == self.termin:\n",
        "            self.current_cell = (r, c)\n",
        "            return (r, c)\n",
        "        if action == 0:  # left\n",
        "            c_next = max(0, c - 1)\n",
        "            r_next = r\n",
        "        elif action == 1:  # up\n",
        "            c_next = c\n",
        "            r_next = max(0, r - 1)\n",
        "        elif action == 2:  # right\n",
        "            c_next = min(self.size[1]-1, c + 1)\n",
        "            r_next = r\n",
        "        elif action == 3:  # down\n",
        "            c_next = c\n",
        "            r_next = min(self.size[0]-1, r + 1)\n",
        "        if (r_next, c_next) in self.obstacles:\n",
        "            self.current_cell = (r, c)\n",
        "            return (r, c)\n",
        "        self.current_cell = (r_next, c_next)\n",
        "        return (r_next, c_next)\n",
        "\n",
        "    def reward(self, cell, action):\n",
        "        # ----- RETURN REWARD -----\n",
        "        # -1 if not in the terminal state\n",
        "        if cell == self.termin:\n",
        "            return 0\n",
        "        return -1\n",
        "\n",
        "    def in_terminal(self):\n",
        "        return self.current_cell == self.termin"
      ]
    },
    {
      "cell_type": "code",
      "execution_count": null,
      "metadata": {
        "id": "On9UpiVvMx_N"
      },
      "outputs": [],
      "source": [
        "class DPsolver:\n",
        "    \"\"\"\n",
        "    This solver is based on the Bellman-equation and it is\n",
        "    solved iteratively .\n",
        "    The action-value is used to represent the utility of the\n",
        "    actions and states.\n",
        "    \"\"\"\n",
        "\n",
        "    def __init__(self, gridworld, gamma, iterations):\n",
        "        # setting parametes according to the input parameters\n",
        "        self.gridworld = gridworld\n",
        "        self.gamma = gamma\n",
        "        self.iterations = iterations\n",
        "        size = gridworld.size\n",
        "        # initialize accumulaters\n",
        "        self.cntr = 0\n",
        "        self.sum_rewards = []\n",
        "        self.path = []\n",
        "        # ----- initialize the table for Q-function -----\n",
        "        self.q_table = np.zeros((4, size[0], size[1]), dtype=np.float32)\n",
        "\n",
        "    def step(self):\n",
        "        # implement one step in the value iteration\n",
        "        rows, cols = self.gridworld.size  # ask for the size of the grid\n",
        "        # ----- cycle over the rows -----\n",
        "        for r in range(rows):\n",
        "            # ----- cycle over the columns -----\n",
        "            for c in range(cols):\n",
        "                # ----- cycle over the actions -----\n",
        "                for act in range(4):\n",
        "                    # ----- get the reward -----\n",
        "                    reward = self.gridworld.reward((r, c), act)\n",
        "                    # ----- calculate the corresponding next step (what would happen) -----\n",
        "                    cell_next = self.gridworld.transition((r, c), act)\n",
        "                    r2, c2 = cell_next\n",
        "                    self.q_table[act, r, c] = reward + self.gamma * np.max(self.q_table[:, r2, c2])\n",
        "        # increase the counter\n",
        "        self.cntr += 1\n",
        "        # add the return to the sum_rewards list\n",
        "        self.sum_rewards.append(self.trajectory())\n",
        "\n",
        "    def trajectory(self):\n",
        "        # ----- IMPLEMENT THE FUNCTION -----\n",
        "        # reset the gridworld\n",
        "        self.gridworld.reset()\n",
        "        # calculate the return along a trajectory followed by the current policy\n",
        "        # when started from the start_cell\n",
        "        sum_rewards = 0\n",
        "        itr = 0\n",
        "        # TODO\n",
        "        while not self.gridworld.in_terminal() and itr < 20:\n",
        "            r, c = self.gridworld.current_cell\n",
        "            action = np.argmax(self.q_table[:, r, c])\n",
        "            self.gridworld.transition((r, c), action)\n",
        "            sum_rewards += self.gridworld.reward((r, c), action)\n",
        "            self.path.append((r, c))\n",
        "            itr += 1\n",
        "        return sum_rewards\n",
        "\n",
        "    def is_learning_finished(self):\n",
        "        # check whether learning has finished, return it\n",
        "        return self.cntr > self.iterations"
      ]
    },
    {
      "cell_type": "code",
      "execution_count": null,
      "metadata": {
        "id": "xnJwxqWVMx_P"
      },
      "outputs": [],
      "source": [
        "def plot_learning_curve(ql):\n",
        "    values = ql.sum_rewards\n",
        "    x = list(range(len(values)))\n",
        "    y = values\n",
        "    plt.plot(x, y, 'ro')\n",
        "    plt.show()"
      ]
    },
    {
      "cell_type": "code",
      "execution_count": null,
      "metadata": {
        "id": "qTYCYzT8Mx_R",
        "outputId": "a8bafd07-0169-4f27-c05c-eb07b97bcf38",
        "colab": {
          "base_uri": "https://localhost:8080/",
          "height": 1000
        }
      },
      "outputs": [
        {
          "output_type": "stream",
          "name": "stdout",
          "text": [
            "-20\n",
            "-20\n",
            "-20\n",
            "-20\n",
            "-20\n",
            "-20\n",
            "-20\n",
            "-20\n",
            "-8\n",
            "-8\n",
            "-8\n",
            "-8\n",
            "-8\n",
            "-8\n",
            "-8\n",
            "-8\n",
            "-8\n",
            "-8\n",
            "-8\n",
            "-8\n",
            "-8\n",
            "-8\n",
            "-8\n",
            "-8\n",
            "-8\n",
            "-8\n",
            "-8\n",
            "-8\n",
            "-8\n",
            "-8\n",
            "-8\n",
            "-8\n",
            "-8\n",
            "-8\n",
            "-8\n",
            "-8\n",
            "-8\n",
            "-8\n",
            "-8\n",
            "-8\n",
            "-8\n",
            "-8\n",
            "-8\n",
            "-8\n",
            "-8\n",
            "-8\n",
            "-8\n",
            "-8\n",
            "-8\n",
            "-8\n",
            "-8\n",
            "-8\n"
          ]
        },
        {
          "output_type": "display_data",
          "data": {
            "text/plain": [
              "<Figure size 640x480 with 1 Axes>"
            ],
            "image/png": "[encoded data removed]"
          },
          "metadata": {}
        }
      ],
      "source": [
        "# grid world parameters\n",
        "size = (6, 6)\n",
        "start_cell = (0, 0)\n",
        "obstacles = [(3, 3), (1,1)]\n",
        "terminating_state = (3, 5)\n",
        "# q learning parameters\n",
        "gamma = 0.9\n",
        "# ----- What is the minimum required number of iterations? -----\n",
        "iterations = 50\n",
        "\n",
        "gw = GridWorld(size, start_cell, obstacles, terminating_state)\n",
        "solver = DPsolver(gw, gamma, iterations)\n",
        "\n",
        "while not solver.is_learning_finished():\n",
        "    solver.step()\n",
        "    sum_rewards = solver.sum_rewards[-1]\n",
        "    print(sum_rewards)\n",
        "\n",
        "sum_rewards = solver.trajectory()\n",
        "print(sum_rewards)\n",
        "plot_learning_curve(solver)"
      ]
    }
  ],
  "metadata": {
    "kernelspec": {
      "display_name": "Python 3 (ipykernel)",
      "language": "python",
      "name": "python3"
    },
    "language_info": {
      "codemirror_mode": {
        "name": "ipython",
        "version": 3
      },
      "file_extension": ".py",
      "mimetype": "text/x-python",
      "name": "python",
      "nbconvert_exporter": "python",
      "pygments_lexer": "ipython3",
      "version": "3.9.7"
    },
    "colab": {
      "provenance": []
    }
  },
  "nbformat": 4,
  "nbformat_minor": 0
}